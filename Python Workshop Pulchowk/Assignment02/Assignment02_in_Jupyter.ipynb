{
 "cells": [
  {
   "cell_type": "code",
   "execution_count": 1,
   "id": "64e37bf0",
   "metadata": {},
   "outputs": [],
   "source": [
    "import os\n",
    "import img2pdf"
   ]
  },
  {
   "cell_type": "code",
   "execution_count": 2,
   "id": "0c8648b2",
   "metadata": {},
   "outputs": [
    {
     "name": "stdout",
     "output_type": "stream",
     "text": [
      "['.ipynb_checkpoints', '1.jpg', '2.jpg', '3.jpg', '4.jpg', 'Assignment02.ipynb', 'image.pdf', 'img_2_pdf.py', 'Photos.pdf']\n"
     ]
    }
   ],
   "source": [
    "list = os.listdir(\".\")\n",
    "print(list)\n"
   ]
  },
  {
   "cell_type": "code",
   "execution_count": 3,
   "id": "d6a7e15b",
   "metadata": {},
   "outputs": [
    {
     "name": "stdout",
     "output_type": "stream",
     "text": [
      "['1.jpg', '2.jpg', '3.jpg', '4.jpg']\n"
     ]
    }
   ],
   "source": [
    "image_list = []\n",
    "for items in list:\n",
    "    if items.endswith(\".jpg\"):\n",
    "        image_list.append(items)\n",
    "\n",
    "print(image_list)"
   ]
  },
  {
   "cell_type": "code",
   "execution_count": 4,
   "id": "71d5f044",
   "metadata": {},
   "outputs": [],
   "source": [
    "image_pdf = img2pdf.convert(image_list)"
   ]
  },
  {
   "cell_type": "code",
   "execution_count": 5,
   "id": "e7befbc3",
   "metadata": {},
   "outputs": [],
   "source": [
    "with open(\"image.pdf\",\"wb\") as f:\n",
    "    f.write(image_pdf)\n",
    "    f.close()"
   ]
  },
  {
   "cell_type": "code",
   "execution_count": null,
   "id": "c602eb3e",
   "metadata": {},
   "outputs": [],
   "source": []
  }
 ],
 "metadata": {
  "kernelspec": {
   "display_name": "Python 3",
   "language": "python",
   "name": "python3"
  },
  "language_info": {
   "codemirror_mode": {
    "name": "ipython",
    "version": 3
   },
   "file_extension": ".py",
   "mimetype": "text/x-python",
   "name": "python",
   "nbconvert_exporter": "python",
   "pygments_lexer": "ipython3",
   "version": "3.9.5"
  }
 },
 "nbformat": 4,
 "nbformat_minor": 5
}
